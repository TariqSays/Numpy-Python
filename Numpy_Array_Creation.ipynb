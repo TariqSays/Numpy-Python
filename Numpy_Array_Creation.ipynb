{
 "cells": [
  {
   "cell_type": "code",
   "execution_count": 3,
   "metadata": {},
   "outputs": [],
   "source": [
    "# import it in your program by using the import keyword\n",
    "\n",
    "\n",
    "import numpy as np"
   ]
  },
  {
   "cell_type": "code",
   "execution_count": 5,
   "metadata": {},
   "outputs": [
    {
     "name": "stdout",
     "output_type": "stream",
     "text": [
      "[1 2 3 4 5]\n"
     ]
    }
   ],
   "source": [
    "# creation of NumPy ndarray object by using the array() function\n",
    "\n",
    "\n",
    "arr1 = np.array([1,2,3,4,5])\n",
    "print(arr1)"
   ]
  },
  {
   "cell_type": "code",
   "execution_count": 6,
   "metadata": {},
   "outputs": [
    {
     "name": "stdout",
     "output_type": "stream",
     "text": [
      "<class 'numpy.ndarray'>\n"
     ]
    }
   ],
   "source": [
    "# type() function tells us the type of the object passed to it\n",
    "\n",
    "\n",
    "print(type(arr1))"
   ]
  },
  {
   "cell_type": "code",
   "execution_count": 7,
   "metadata": {},
   "outputs": [
    {
     "name": "stdout",
     "output_type": "stream",
     "text": [
      "[6 7 8 9 0]\n"
     ]
    }
   ],
   "source": [
    "# for creating an ndarray, a list, tuple or any array-like object can be passed into the array() method\n",
    "# use tuple\n",
    "\n",
    "\n",
    "arr2 = np.array((6,7,8,9,0))\n",
    "print(arr2)"
   ]
  },
  {
   "cell_type": "markdown",
   "metadata": {},
   "source": [
    "# dimensions in arrays"
   ]
  },
  {
   "cell_type": "code",
   "execution_count": 8,
   "metadata": {},
   "outputs": [
    {
     "name": "stdout",
     "output_type": "stream",
     "text": [
      "22\n"
     ]
    }
   ],
   "source": [
    "# 0-D arrays, or Scalars, are the elements in an array.\n",
    "\n",
    "\n",
    "arr3 = np.array(22)\n",
    "print(arr3)"
   ]
  },
  {
   "cell_type": "code",
   "execution_count": 9,
   "metadata": {},
   "outputs": [
    {
     "name": "stdout",
     "output_type": "stream",
     "text": [
      "[22 11 75  2  7]\n"
     ]
    }
   ],
   "source": [
    "# any array that has 0-D arrays as its elements is called 1-D array\n",
    "\n",
    "\n",
    "arr4 = np.array([22,11,75,2,7])\n",
    "print(arr4)"
   ]
  },
  {
   "cell_type": "code",
   "execution_count": 11,
   "metadata": {},
   "outputs": [
    {
     "name": "stdout",
     "output_type": "stream",
     "text": [
      "[[1 3 5 7 9]\n",
      " [2 4 6 8 0]]\n"
     ]
    }
   ],
   "source": [
    "# any array that 1-D arrays as its elements is called 2-D array\n",
    "\n",
    "\n",
    "arr5 = np.array([[1,3,5,7,9],[2,4,6,8,0]])\n",
    "print(arr5)"
   ]
  },
  {
   "cell_type": "code",
   "execution_count": 12,
   "metadata": {},
   "outputs": [
    {
     "name": "stdout",
     "output_type": "stream",
     "text": [
      "[[[ 1  2  3]\n",
      "  [ 4  5  6]]\n",
      "\n",
      " [[11 12 13]\n",
      "  [14 15 16]]]\n"
     ]
    }
   ],
   "source": [
    "# an array that as 2-D arrays as its elements is called 3-D array\n",
    "\n",
    "\n",
    "arr6 = np.array([[[1,2,3],[4,5,6]],[[11,12,13],[14,15,16]]])\n",
    "print(arr6)"
   ]
  },
  {
   "cell_type": "code",
   "execution_count": 14,
   "metadata": {},
   "outputs": [
    {
     "name": "stdout",
     "output_type": "stream",
     "text": [
      "0\n",
      "1\n",
      "2\n",
      "3\n"
     ]
    }
   ],
   "source": [
    "# look over number of dimensions\n",
    "\n",
    "\n",
    "print(arr3.ndim)\n",
    "print(arr4.ndim)\n",
    "print(arr5.ndim)\n",
    "print(arr6.ndim)"
   ]
  },
  {
   "cell_type": "code",
   "execution_count": 16,
   "metadata": {},
   "outputs": [
    {
     "name": "stdout",
     "output_type": "stream",
     "text": [
      "[[[[[5 4 3 2 1 0]]]]]\n",
      "5\n"
     ]
    }
   ],
   "source": [
    "# using ndmin argument in array() method the number of dimensions can be defined\n",
    "# array with 5 dimensions\n",
    "\n",
    "\n",
    "arr7 = np.array([5,4,3,2,1,0], ndmin=5)\n",
    "print(arr7)\n",
    "print(arr7.ndim)"
   ]
  },
  {
   "cell_type": "code",
   "execution_count": null,
   "metadata": {},
   "outputs": [],
   "source": []
  }
 ],
 "metadata": {
  "kernelspec": {
   "display_name": "Python 3",
   "language": "python",
   "name": "python3"
  },
  "language_info": {
   "codemirror_mode": {
    "name": "ipython",
    "version": 3
   },
   "file_extension": ".py",
   "mimetype": "text/x-python",
   "name": "python",
   "nbconvert_exporter": "python",
   "pygments_lexer": "ipython3",
   "version": "3.7.4"
  }
 },
 "nbformat": 4,
 "nbformat_minor": 2
}
